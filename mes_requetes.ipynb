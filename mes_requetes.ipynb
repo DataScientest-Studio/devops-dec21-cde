{
 "cells": [
  {
   "cell_type": "code",
   "execution_count": 1,
   "id": "5724572e-fd07-4b1d-beb0-f42ef3ae9b86",
   "metadata": {},
   "outputs": [],
   "source": [
    "import requests"
   ]
  },
  {
   "cell_type": "code",
   "execution_count": 3,
   "id": "87b78d5f-7982-4013-8c7e-843a2f1663c7",
   "metadata": {},
   "outputs": [],
   "source": [
    "url = \"https://api.openweathermap.org/data/2.5/weather\""
   ]
  },
  {
   "cell_type": "code",
   "execution_count": 10,
   "id": "9ffaff00-59de-45c5-82d3-95977c78b90a",
   "metadata": {},
   "outputs": [],
   "source": [
    "response = requests.get(\n",
    "    url=url,\n",
    "    params={\n",
    "        \"appid\": \"37b483db2ece2589da0114fcedfc3bd4\",\n",
    "        \"lat\": 45,\n",
    "        \"lon\": 0\n",
    "    }\n",
    ")"
   ]
  },
  {
   "cell_type": "code",
   "execution_count": 11,
   "id": "169d88dd-1b29-4f05-a195-08d3feae4d99",
   "metadata": {},
   "outputs": [
    {
     "data": {
      "text/plain": [
       "200"
      ]
     },
     "execution_count": 11,
     "metadata": {},
     "output_type": "execute_result"
    }
   ],
   "source": [
    "response.status_code"
   ]
  },
  {
   "cell_type": "code",
   "execution_count": 13,
   "id": "2ae61571-9b39-41a6-a036-35771db43d76",
   "metadata": {},
   "outputs": [
    {
     "data": {
      "text/plain": [
       "{'coord': {'lon': 0, 'lat': 45},\n",
       " 'weather': [{'id': 800,\n",
       "   'main': 'Clear',\n",
       "   'description': 'clear sky',\n",
       "   'icon': '01d'}],\n",
       " 'base': 'stations',\n",
       " 'main': {'temp': 292.23,\n",
       "  'feels_like': 291.47,\n",
       "  'temp_min': 292.23,\n",
       "  'temp_max': 293.05,\n",
       "  'pressure': 1024,\n",
       "  'humidity': 49,\n",
       "  'sea_level': 1024,\n",
       "  'grnd_level': 1020},\n",
       " 'visibility': 10000,\n",
       " 'wind': {'speed': 3.05, 'deg': 5, 'gust': 4.21},\n",
       " 'clouds': {'all': 6},\n",
       " 'dt': 1651746296,\n",
       " 'sys': {'type': 1,\n",
       "  'id': 6451,\n",
       "  'country': 'FR',\n",
       "  'sunrise': 1651725828,\n",
       "  'sunset': 1651777772},\n",
       " 'timezone': 7200,\n",
       " 'id': 2984928,\n",
       " 'name': 'Puynormand',\n",
       " 'cod': 200}"
      ]
     },
     "execution_count": 13,
     "metadata": {},
     "output_type": "execute_result"
    }
   ],
   "source": [
    "response.json()"
   ]
  },
  {
   "cell_type": "code",
   "execution_count": 14,
   "id": "ddf21ba5-c67d-4f33-9fb0-37387b4bf86a",
   "metadata": {},
   "outputs": [],
   "source": [
    "API_URL = \"http://127.0.0.1:8000\"\n",
    "\n",
    "response = requests.get(\n",
    "    url=f\"{API_URL}/\",\n",
    "    \n",
    ")"
   ]
  },
  {
   "cell_type": "code",
   "execution_count": 15,
   "id": "2f91c4de-6f26-4755-97d3-a1279818907d",
   "metadata": {},
   "outputs": [
    {
     "data": {
      "text/plain": [
       "200"
      ]
     },
     "execution_count": 15,
     "metadata": {},
     "output_type": "execute_result"
    }
   ],
   "source": [
    "response.status_code"
   ]
  },
  {
   "cell_type": "code",
   "execution_count": 16,
   "id": "56ef73ef-39b3-4852-bad5-68ac1a871f7d",
   "metadata": {},
   "outputs": [
    {
     "data": {
      "text/plain": [
       "{'hello': 'world'}"
      ]
     },
     "execution_count": 16,
     "metadata": {},
     "output_type": "execute_result"
    }
   ],
   "source": [
    "response.json()"
   ]
  },
  {
   "cell_type": "code",
   "execution_count": 19,
   "id": "7cd45a62-7d24-4eab-8ae6-f125a92c5076",
   "metadata": {},
   "outputs": [
    {
     "name": "stdout",
     "output_type": "stream",
     "text": [
      "200\n"
     ]
    },
    {
     "data": {
      "text/plain": [
       "{'Ceci est': 'un delete un peu différent'}"
      ]
     },
     "execution_count": 19,
     "metadata": {},
     "output_type": "execute_result"
    }
   ],
   "source": [
    "API_URL = \"http://127.0.0.1:8000\"\n",
    "\n",
    "response = requests.delete(\n",
    "    url=f\"{API_URL}/mon_delete\",\n",
    "    \n",
    ")\n",
    "\n",
    "print(response.status_code)\n",
    "response.json()"
   ]
  },
  {
   "cell_type": "code",
   "execution_count": 20,
   "id": "0e6cc977-7b61-4a20-841d-e0c59d25f266",
   "metadata": {},
   "outputs": [],
   "source": [
    "a = \"mon texte: \"\n",
    "b = 12435"
   ]
  },
  {
   "cell_type": "code",
   "execution_count": 21,
   "id": "16402db6-a0e1-4020-8ad3-6cc16cc8ffad",
   "metadata": {},
   "outputs": [
    {
     "data": {
      "text/plain": [
       "'mon texte: 12435'"
      ]
     },
     "execution_count": 21,
     "metadata": {},
     "output_type": "execute_result"
    }
   ],
   "source": [
    "a + str(b)"
   ]
  },
  {
   "cell_type": "code",
   "execution_count": 22,
   "id": "05f99b69-b76f-4c89-8200-5856307c4240",
   "metadata": {},
   "outputs": [],
   "source": [
    "a = \"mon texte: {}\""
   ]
  },
  {
   "cell_type": "code",
   "execution_count": 23,
   "id": "fb4c26db-5c8d-4d57-9d3d-af9b3587afba",
   "metadata": {},
   "outputs": [
    {
     "data": {
      "text/plain": [
       "'mon texte: 12435'"
      ]
     },
     "execution_count": 23,
     "metadata": {},
     "output_type": "execute_result"
    }
   ],
   "source": [
    "a.format(b)"
   ]
  },
  {
   "cell_type": "code",
   "execution_count": 24,
   "id": "4f294be0-02d9-4a2e-aea9-5ed21ee95507",
   "metadata": {},
   "outputs": [],
   "source": [
    "a = \"mon texte: {mon_nombre}\""
   ]
  },
  {
   "cell_type": "code",
   "execution_count": 25,
   "id": "5b6cbc17-b740-4506-bd9b-0e34beb69ac9",
   "metadata": {},
   "outputs": [
    {
     "data": {
      "text/plain": [
       "'mon texte: 12435'"
      ]
     },
     "execution_count": 25,
     "metadata": {},
     "output_type": "execute_result"
    }
   ],
   "source": [
    "a.format(mon_nombre=b)"
   ]
  },
  {
   "cell_type": "code",
   "execution_count": 26,
   "id": "0d8808b1-224d-4872-a240-9c7bfcff2c63",
   "metadata": {},
   "outputs": [
    {
     "data": {
      "text/plain": [
       "'mon texte: 12435'"
      ]
     },
     "execution_count": 26,
     "metadata": {},
     "output_type": "execute_result"
    }
   ],
   "source": [
    "f\"mon texte: {b}\""
   ]
  },
  {
   "cell_type": "code",
   "execution_count": null,
   "id": "1ab4085d-42e5-418b-9ca2-1a2cc31c1381",
   "metadata": {},
   "outputs": [],
   "source": []
  }
 ],
 "metadata": {
  "kernelspec": {
   "display_name": "Python 3 (ipykernel)",
   "language": "python",
   "name": "python3"
  },
  "language_info": {
   "codemirror_mode": {
    "name": "ipython",
    "version": 3
   },
   "file_extension": ".py",
   "mimetype": "text/x-python",
   "name": "python",
   "nbconvert_exporter": "python",
   "pygments_lexer": "ipython3",
   "version": "3.8.10"
  }
 },
 "nbformat": 4,
 "nbformat_minor": 5
}
